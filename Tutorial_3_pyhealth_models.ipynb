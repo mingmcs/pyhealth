{
  "cells": [
    {
      "cell_type": "markdown",
      "metadata": {
        "id": "view-in-github",
        "colab_type": "text"
      },
      "source": [
        "<a href=\"https://colab.research.google.com/github/mingmcs/pyhealth/blob/week5/Tutorial_3_pyhealth_models.ipynb\" target=\"_parent\"><img src=\"https://colab.research.google.com/assets/colab-badge.svg\" alt=\"Open In Colab\"/></a>"
      ]
    },
    {
      "cell_type": "markdown",
      "source": [
        "### **Preparation**\n",
        "- install pyhealth alpha version "
      ],
      "metadata": {
        "id": "PHPVEkPFKYkw"
      }
    },
    {
      "cell_type": "code",
      "execution_count": null,
      "metadata": {
        "colab": {
          "base_uri": "https://localhost:8080/"
        },
        "id": "Dbz1YJ2nqOSN",
        "outputId": "47b3313e-1a0d-429f-9793-1642ada8b457"
      },
      "outputs": [
        {
          "output_type": "stream",
          "name": "stdout",
          "text": [
            "Looking in indexes: https://pypi.org/simple, https://us-python.pkg.dev/colab-wheels/public/simple/\n",
            "Requirement already satisfied: pyhealth in /usr/local/lib/python3.8/dist-packages (1.1.2)\n",
            "Requirement already satisfied: tqdm in /usr/local/lib/python3.8/dist-packages (from pyhealth) (4.64.1)\n",
            "Requirement already satisfied: torch>=1.8.0 in /usr/local/lib/python3.8/dist-packages (from pyhealth) (1.13.0+cu116)\n",
            "Requirement already satisfied: networkx>=2.6.3 in /usr/local/lib/python3.8/dist-packages (from pyhealth) (2.8.8)\n",
            "Requirement already satisfied: rdkit>=2022.03.4 in /usr/local/lib/python3.8/dist-packages (from pyhealth) (2022.9.3)\n",
            "Requirement already satisfied: pandas>=1.3.2 in /usr/local/lib/python3.8/dist-packages (from pyhealth) (1.3.5)\n",
            "Requirement already satisfied: scikit-learn>=0.24.2 in /usr/local/lib/python3.8/dist-packages (from pyhealth) (1.0.2)\n",
            "Requirement already satisfied: python-dateutil>=2.7.3 in /usr/local/lib/python3.8/dist-packages (from pandas>=1.3.2->pyhealth) (2.8.2)\n",
            "Requirement already satisfied: pytz>=2017.3 in /usr/local/lib/python3.8/dist-packages (from pandas>=1.3.2->pyhealth) (2022.7)\n",
            "Requirement already satisfied: numpy>=1.17.3 in /usr/local/lib/python3.8/dist-packages (from pandas>=1.3.2->pyhealth) (1.21.6)\n",
            "Requirement already satisfied: Pillow in /usr/local/lib/python3.8/dist-packages (from rdkit>=2022.03.4->pyhealth) (7.1.2)\n",
            "Requirement already satisfied: threadpoolctl>=2.0.0 in /usr/local/lib/python3.8/dist-packages (from scikit-learn>=0.24.2->pyhealth) (3.1.0)\n",
            "Requirement already satisfied: joblib>=0.11 in /usr/local/lib/python3.8/dist-packages (from scikit-learn>=0.24.2->pyhealth) (1.2.0)\n",
            "Requirement already satisfied: scipy>=1.1.0 in /usr/local/lib/python3.8/dist-packages (from scikit-learn>=0.24.2->pyhealth) (1.7.3)\n",
            "Requirement already satisfied: typing-extensions in /usr/local/lib/python3.8/dist-packages (from torch>=1.8.0->pyhealth) (4.4.0)\n",
            "Requirement already satisfied: six>=1.5 in /usr/local/lib/python3.8/dist-packages (from python-dateutil>=2.7.3->pandas>=1.3.2->pyhealth) (1.15.0)\n"
          ]
        }
      ],
      "source": [
        "!pip install pyhealth"
      ]
    },
    {
      "cell_type": "markdown",
      "source": [
        "### **Instruction on [pyhealth.models](https://pyhealth.readthedocs.io/en/latest/api/models.html)**\n",
        "- **[README]**: In this package, we provide common deep learning models (e.g., RNN, CNN, Transformer) and special healthcare deep learning models, such as (e.g., RETAIN, SafeDrug, GAMENet). All except some special models (e.g., GAMENet, SafeDrug, MICRON are designed only for drug recommendation task) can be applied to all healthcare prediction tasks. Note that, we have provided two callable methods of each deep learning model:\n",
        "  - Model, such as RNN, CNN, Transformer, RETAIN, **initialized by our dataset object**\n",
        "  - ModelLayer (alternatively), such as RNNLayer, CNNLayer, TransformerLayer, RETAINLayer. Alternatively, **initialized by auxiliary information (specified for each layer)**.\n",
        "\n",
        "- **[Arguments for Model]**:\n",
        "  The arguments for each DL Model follows the arguments below.\n",
        "    - `dataset`: this is the [pyhealth.dataset](https://pyhealth.readthedocs.io/en/latest/api/datasets.html) object. All model specific processing is based on this and is handled within the Model class.\n",
        "    - `feature_keys`: a list of string-based table names, indicating that these tables will be used in the pipeline.\n",
        "    - `label_key`: currently, we only support `label`, defined in task function.\n",
        "    - `mode`: `multiclass`, `multilabel`, or `binary`.\n",
        "    \n",
        "- **[Arguments for the ModelLayer]**: \n",
        "Alternatively, if users do not want to use the [pyhealth.dataset](https://pyhealth.readthedocs.io/en/latest/api/datasets.html) object for initializing Model, then they can choose to call the ModelLayer by preparing inputs following the requirements. The inputs of each ModelLayer can be different (refer to [pyhealth.models](https://pyhealth.readthedocs.io/en/latest/api/models.html). For example, we list the arguments of a RNNLayer below:\n",
        "  - `input_size`: input size of rnn\n",
        "  - `hidden_size`: hidden size of rnn\n",
        "  - `rnn_type`: type of rnn, e.g. GRU, LSTM\n",
        "  - `num_layers`: number of rnn layers\n",
        "  - `dropout`: dropout rate\n",
        "  - `bidirectional`: whether to use bidirectional rnn\n"
      ],
      "metadata": {
        "id": "_1S5rqae7FhB"
      }
    },
    {
      "cell_type": "markdown",
      "source": [
        "### **Step 1 & 2: Prepare datasets and task function**\n",
        "- We use **OMOP dataset** for **readmission prediction** task. More details can refer to [Tutorial 1](https://colab.research.google.com/drive/18kbzEQAj1FMs_J9rTGX8eCoxnWdx4Ltn?usp=sharing) and [Tutorial 2](https://colab.research.google.com/drive/1r7MYQR_5yCJGpK_9I9-A10HmpupZuIN-?usp=sharing)"
      ],
      "metadata": {
        "id": "xNNqLWaPM2yx"
      }
    },
    {
      "cell_type": "code",
      "source": [
        "from pyhealth.datasets import MIMIC3Dataset\n",
        "from pyhealth.tasks import readmission_prediction_mimic3_fn\n",
        "\n",
        "dataset = MIMIC3Dataset(\n",
        "        root=\"https://storage.googleapis.com/pyhealth/Synthetic_MIMIC-III/\",\n",
        "        tables=[\"DIAGNOSES_ICD\", \"PROCEDURES_ICD\", \"PRESCRIPTIONS\"],\n",
        "        code_mapping={\"NDC\": \"ATC\"},\n",
        "        # develop mode is True enables small data load\n",
        "        dev=True,\n",
        ")\n",
        "\n",
        "# specify which task\n",
        "dataset = dataset.set_task(readmission_prediction_mimic3_fn)"
      ],
      "metadata": {
        "id": "ZX2FKvqvNXay",
        "colab": {
          "base_uri": "https://localhost:8080/"
        },
        "outputId": "b657a9a0-0762-4a3f-bf03-18e20ae915cf"
      },
      "execution_count": null,
      "outputs": [
        {
          "output_type": "stream",
          "name": "stderr",
          "text": [
            "Generating samples for readmission_prediction_mimic3_fn: 100%|██████████| 1000/1000 [00:00<00:00, 157722.11it/s]\n"
          ]
        }
      ]
    },
    {
      "cell_type": "code",
      "source": [
        "# check the format of the first sample\n",
        "dataset.samples[2]"
      ],
      "metadata": {
        "colab": {
          "base_uri": "https://localhost:8080/"
        },
        "id": "_JVaHgBrRssx",
        "outputId": "c6572b55-fe7d-40cc-b07f-2575437134a4"
      },
      "execution_count": null,
      "outputs": [
        {
          "output_type": "execute_result",
          "data": {
            "text/plain": [
              "{'visit_id': '100183',\n",
              " 'patient_id': '175',\n",
              " 'conditions': [['5990',\n",
              "   '4280',\n",
              "   '2851',\n",
              "   '4240',\n",
              "   '2749',\n",
              "   '9982',\n",
              "   'E8499',\n",
              "   '42831',\n",
              "   '34600']],\n",
              " 'procedures': [['0040', '3931', '7769']],\n",
              " 'drugs': [['N06DA02',\n",
              "   'V06DC01',\n",
              "   'B01AB01',\n",
              "   'A06AA02',\n",
              "   'R03AC02',\n",
              "   'H03AA01',\n",
              "   'J01FA09']],\n",
              " 'label': 0}"
            ]
          },
          "metadata": {},
          "execution_count": 23
        }
      ]
    },
    {
      "cell_type": "markdown",
      "source": [
        "### **Step 3 (Example): Using RETAIN or RETAIN Layer**\n",
        "- Option 1: we choose to initialize the **pyhealth.models.RETAIN** model.\n",
        "- Option 2: we choose to customize a new model with our **pyhealth.models.RETAINLayer**.\n"
      ],
      "metadata": {
        "id": "I-t009qvNzFM"
      }
    },
    {
      "cell_type": "code",
      "source": [
        "# option 1\n",
        "\n",
        "from pyhealth.models import RETAIN\n",
        "\n",
        "device = \"cpu\"\n",
        "\n",
        "model = RETAIN(\n",
        "    # argument 1: call the dataset\n",
        "    dataset=dataset,\n",
        "    # argument 2: use a subset of keys in the data sample format for features \n",
        "    # look up what are available for \"feature_keys\" and \"label_keys\" in dataset.samples[0]\n",
        "    feature_keys=[\"conditions\", \"procedures\"],\n",
        "    # argument 3: use `label` for indicating the prediction label_key\n",
        "    label_key=\"label\",\n",
        "    # argument 4: set the embedding dimension\n",
        "    embedding_dim=128,\n",
        "    # argument 5: what type of tasks, multiclass, multilabel, or binary?\n",
        "    mode=\"binary\",\n",
        ")\n",
        "model.to(device)"
      ],
      "metadata": {
        "id": "Z9sOQXDJOYTP",
        "colab": {
          "base_uri": "https://localhost:8080/"
        },
        "outputId": "4bcc0314-a3b9-4c5d-fae1-a01aea69cbf2"
      },
      "execution_count": null,
      "outputs": [
        {
          "output_type": "execute_result",
          "data": {
            "text/plain": [
              "RETAIN(\n",
              "  (embeddings): ModuleDict(\n",
              "    (conditions): Embedding(303, 128, padding_idx=0)\n",
              "    (procedures): Embedding(101, 128, padding_idx=0)\n",
              "  )\n",
              "  (linear_layers): ModuleDict()\n",
              "  (retain): ModuleDict(\n",
              "    (conditions): RETAINLayer(\n",
              "      (dropout_layer): Dropout(p=0.5, inplace=False)\n",
              "      (alpha_gru): GRU(128, 128, batch_first=True)\n",
              "      (beta_gru): GRU(128, 128, batch_first=True)\n",
              "      (alpha_li): Linear(in_features=128, out_features=1, bias=True)\n",
              "      (beta_li): Linear(in_features=128, out_features=128, bias=True)\n",
              "    )\n",
              "    (procedures): RETAINLayer(\n",
              "      (dropout_layer): Dropout(p=0.5, inplace=False)\n",
              "      (alpha_gru): GRU(128, 128, batch_first=True)\n",
              "      (beta_gru): GRU(128, 128, batch_first=True)\n",
              "      (alpha_li): Linear(in_features=128, out_features=1, bias=True)\n",
              "      (beta_li): Linear(in_features=128, out_features=128, bias=True)\n",
              "    )\n",
              "  )\n",
              "  (fc): Linear(in_features=256, out_features=1, bias=True)\n",
              ")"
            ]
          },
          "metadata": {},
          "execution_count": 24
        }
      ]
    },
    {
      "cell_type": "code",
      "source": [
        "# option 2\n",
        "\n",
        "from pyhealth.models import RETAINLayer\n",
        "import torch.nn as nn\n",
        "\n",
        "class NewModel(nn.Module):\n",
        "    def __init__(\n",
        "        self,\n",
        "        input_size: int = 64,\n",
        "        hidden_size: int = 128,\n",
        "        num_layers: int = 1,\n",
        "        dropout: float = 0.5,\n",
        "    ):\n",
        "        super(NewModel, self).__init__()\n",
        "\n",
        "        # TODO: implement other module 1\n",
        "        self.module1 = None\n",
        "\n",
        "        # initilize the RNNLayer\n",
        "        self.rnn = RETAINLayer(input_size, dropout)\n",
        "\n",
        "        # TODO: implement other module 2\n",
        "        self.module2 = None\n",
        "\n",
        "\n",
        "    def forward(self, x):\n",
        "        x = self.module1(x)\n",
        "        # call the RNNLayer\n",
        "        x = self.rnn(x)\n",
        "        x = self.module2(x)\n",
        "        return x\n",
        "\n",
        "model = NewModel()"
      ],
      "metadata": {
        "id": "NUyhVQtWReZa"
      },
      "execution_count": null,
      "outputs": []
    },
    {
      "cell_type": "markdown",
      "source": [
        "### **Step 4 (Example): Using Transformer model**\n",
        "- Option 1: we choose to initialize the **pyhealth.models.Transformer** model.\n",
        "- Option 2: we choose to customize a new model with our **pyhealth.models.TransformerLayer**.\n"
      ],
      "metadata": {
        "id": "JOyi3OwygUOc"
      }
    },
    {
      "cell_type": "code",
      "source": [
        "# option 1\n",
        "\n",
        "from pyhealth.models import Transformer\n",
        "\n",
        "device = \"cpu\"\n",
        "\n",
        "model = Transformer(\n",
        "    # argument 1: call the dataset\n",
        "    dataset=dataset,\n",
        "    # argument 2: use a subset of keys in the data sample format for features \n",
        "    # look up what are available for \"feature_keys\" and \"label_keys\" in dataset.samples[0]\n",
        "    feature_keys=[\"conditions\", \"procedures\"],\n",
        "    # argument 3: use `label` for indicating the prediction label_key\n",
        "    label_key=\"label\",\n",
        "    # argument 4: set the embedding dimension\n",
        "    embedding_dim=128,\n",
        "    # argument 5: what type of tasks, multiclass, multilabel, or binary?\n",
        "    mode=\"binary\",\n",
        ")\n",
        "model.to(device)"
      ],
      "metadata": {
        "colab": {
          "base_uri": "https://localhost:8080/"
        },
        "id": "tnPQOm19hCU8",
        "outputId": "e2f58073-5b89-41ff-a04d-0566950d59c1"
      },
      "execution_count": null,
      "outputs": [
        {
          "output_type": "execute_result",
          "data": {
            "text/plain": [
              "Transformer(\n",
              "  (embeddings): ModuleDict(\n",
              "    (conditions): Embedding(303, 128, padding_idx=0)\n",
              "    (procedures): Embedding(101, 128, padding_idx=0)\n",
              "  )\n",
              "  (linear_layers): ModuleDict()\n",
              "  (transformer): ModuleDict(\n",
              "    (conditions): TransformerLayer(\n",
              "      (transformer): ModuleList(\n",
              "        (0): TransformerBlock(\n",
              "          (attention): MultiHeadedAttention(\n",
              "            (linear_layers): ModuleList(\n",
              "              (0): Linear(in_features=128, out_features=128, bias=False)\n",
              "              (1): Linear(in_features=128, out_features=128, bias=False)\n",
              "              (2): Linear(in_features=128, out_features=128, bias=False)\n",
              "            )\n",
              "            (output_linear): Linear(in_features=128, out_features=128, bias=False)\n",
              "            (attention): Attention()\n",
              "            (dropout): Dropout(p=0.1, inplace=False)\n",
              "          )\n",
              "          (feed_forward): PositionwiseFeedForward(\n",
              "            (w_1): Linear(in_features=128, out_features=512, bias=True)\n",
              "            (w_2): Linear(in_features=512, out_features=128, bias=True)\n",
              "            (dropout): Dropout(p=0.5, inplace=False)\n",
              "            (activation): GELU(approximate='none')\n",
              "          )\n",
              "          (input_sublayer): SublayerConnection(\n",
              "            (norm): LayerNorm((128,), eps=1e-05, elementwise_affine=True)\n",
              "            (dropout): Dropout(p=0.5, inplace=False)\n",
              "          )\n",
              "          (output_sublayer): SublayerConnection(\n",
              "            (norm): LayerNorm((128,), eps=1e-05, elementwise_affine=True)\n",
              "            (dropout): Dropout(p=0.5, inplace=False)\n",
              "          )\n",
              "          (dropout): Dropout(p=0.5, inplace=False)\n",
              "        )\n",
              "      )\n",
              "    )\n",
              "    (procedures): TransformerLayer(\n",
              "      (transformer): ModuleList(\n",
              "        (0): TransformerBlock(\n",
              "          (attention): MultiHeadedAttention(\n",
              "            (linear_layers): ModuleList(\n",
              "              (0): Linear(in_features=128, out_features=128, bias=False)\n",
              "              (1): Linear(in_features=128, out_features=128, bias=False)\n",
              "              (2): Linear(in_features=128, out_features=128, bias=False)\n",
              "            )\n",
              "            (output_linear): Linear(in_features=128, out_features=128, bias=False)\n",
              "            (attention): Attention()\n",
              "            (dropout): Dropout(p=0.1, inplace=False)\n",
              "          )\n",
              "          (feed_forward): PositionwiseFeedForward(\n",
              "            (w_1): Linear(in_features=128, out_features=512, bias=True)\n",
              "            (w_2): Linear(in_features=512, out_features=128, bias=True)\n",
              "            (dropout): Dropout(p=0.5, inplace=False)\n",
              "            (activation): GELU(approximate='none')\n",
              "          )\n",
              "          (input_sublayer): SublayerConnection(\n",
              "            (norm): LayerNorm((128,), eps=1e-05, elementwise_affine=True)\n",
              "            (dropout): Dropout(p=0.5, inplace=False)\n",
              "          )\n",
              "          (output_sublayer): SublayerConnection(\n",
              "            (norm): LayerNorm((128,), eps=1e-05, elementwise_affine=True)\n",
              "            (dropout): Dropout(p=0.5, inplace=False)\n",
              "          )\n",
              "          (dropout): Dropout(p=0.5, inplace=False)\n",
              "        )\n",
              "      )\n",
              "    )\n",
              "  )\n",
              "  (fc): Linear(in_features=256, out_features=1, bias=True)\n",
              ")"
            ]
          },
          "metadata": {},
          "execution_count": 25
        }
      ]
    },
    {
      "cell_type": "code",
      "source": [
        "# option 2: build your new model\n",
        "\n",
        "from pyhealth.models import TransformerLayer\n",
        "import torch.nn as nn\n",
        "\n",
        "class NewModel(nn.Module):\n",
        "    def __init__(\n",
        "        self,\n",
        "        input_size: int = 64,\n",
        "        hidden_size: int = 128,\n",
        "        num_layers: int = 1,\n",
        "        dropout: float = 0.5,\n",
        "    ):\n",
        "        super(NewModel, self).__init__()\n",
        "\n",
        "        # you can implement other modules here\n",
        "        self.module1 = None\n",
        "\n",
        "        # initilize the RNNLayer\n",
        "        self.transformer = TransformerLayer(input_size, dropout)\n",
        "\n",
        "        # you can implement other modules here\n",
        "        self.module2 = None\n",
        "\n",
        "\n",
        "    def forward(self, x):\n",
        "        x = self.module1(x)\n",
        "        # call the RNNLayer\n",
        "        x = self.transformer(x)\n",
        "        x = self.module2(x)\n",
        "        return x\n",
        "\n",
        "model = NewModel()"
      ],
      "metadata": {
        "id": "l2SznBwghEvr"
      },
      "execution_count": null,
      "outputs": []
    },
    {
      "cell_type": "code",
      "source": [],
      "metadata": {
        "id": "qo-z_ve1hbtF"
      },
      "execution_count": null,
      "outputs": []
    },
    {
      "cell_type": "markdown",
      "source": [
        "If you find it useful, please give us a star ⭐ (fork, and watch) at https://github.com/sunlabuiuc/PyHealth. \n",
        "\n",
        "Thanks very much for your support!"
      ],
      "metadata": {
        "id": "XeJa4S2sbY6a"
      }
    }
  ],
  "metadata": {
    "colab": {
      "provenance": [],
      "include_colab_link": true
    },
    "kernelspec": {
      "display_name": "Python 3",
      "name": "python3"
    },
    "gpuClass": "standard"
  },
  "nbformat": 4,
  "nbformat_minor": 0
}