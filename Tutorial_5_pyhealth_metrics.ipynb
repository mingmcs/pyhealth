{
  "cells": [
    {
      "cell_type": "markdown",
      "metadata": {
        "id": "view-in-github",
        "colab_type": "text"
      },
      "source": [
        "<a href=\"https://colab.research.google.com/github/mingmcs/pyhealth/blob/week7/Tutorial_5_pyhealth_metrics.ipynb\" target=\"_parent\"><img src=\"https://colab.research.google.com/assets/colab-badge.svg\" alt=\"Open In Colab\"/></a>"
      ]
    },
    {
      "cell_type": "markdown",
      "source": [
        "### **Preparation**\n",
        "- install pyhealth alpha version"
      ],
      "metadata": {
        "id": "PHPVEkPFKYkw"
      }
    },
    {
      "cell_type": "code",
      "execution_count": null,
      "metadata": {
        "colab": {
          "base_uri": "https://localhost:8080/"
        },
        "id": "Dbz1YJ2nqOSN",
        "outputId": "14560d78-1f5f-4fa2-9271-3754e9d415de"
      },
      "outputs": [
        {
          "output_type": "stream",
          "name": "stdout",
          "text": [
            "Looking in indexes: https://pypi.org/simple, https://us-python.pkg.dev/colab-wheels/public/simple/\n",
            "Requirement already satisfied: pyhealth in /usr/local/lib/python3.8/dist-packages (1.1.2)\n",
            "Requirement already satisfied: networkx>=2.6.3 in /usr/local/lib/python3.8/dist-packages (from pyhealth) (2.8.8)\n",
            "Requirement already satisfied: scikit-learn>=0.24.2 in /usr/local/lib/python3.8/dist-packages (from pyhealth) (1.0.2)\n",
            "Requirement already satisfied: rdkit>=2022.03.4 in /usr/local/lib/python3.8/dist-packages (from pyhealth) (2022.9.3)\n",
            "Requirement already satisfied: torch>=1.8.0 in /usr/local/lib/python3.8/dist-packages (from pyhealth) (1.13.0+cu116)\n",
            "Requirement already satisfied: pandas>=1.3.2 in /usr/local/lib/python3.8/dist-packages (from pyhealth) (1.3.5)\n",
            "Requirement already satisfied: tqdm in /usr/local/lib/python3.8/dist-packages (from pyhealth) (4.64.1)\n",
            "Requirement already satisfied: pytz>=2017.3 in /usr/local/lib/python3.8/dist-packages (from pandas>=1.3.2->pyhealth) (2022.7)\n",
            "Requirement already satisfied: numpy>=1.17.3 in /usr/local/lib/python3.8/dist-packages (from pandas>=1.3.2->pyhealth) (1.21.6)\n",
            "Requirement already satisfied: python-dateutil>=2.7.3 in /usr/local/lib/python3.8/dist-packages (from pandas>=1.3.2->pyhealth) (2.8.2)\n",
            "Requirement already satisfied: Pillow in /usr/local/lib/python3.8/dist-packages (from rdkit>=2022.03.4->pyhealth) (7.1.2)\n",
            "Requirement already satisfied: threadpoolctl>=2.0.0 in /usr/local/lib/python3.8/dist-packages (from scikit-learn>=0.24.2->pyhealth) (3.1.0)\n",
            "Requirement already satisfied: joblib>=0.11 in /usr/local/lib/python3.8/dist-packages (from scikit-learn>=0.24.2->pyhealth) (1.2.0)\n",
            "Requirement already satisfied: scipy>=1.1.0 in /usr/local/lib/python3.8/dist-packages (from scikit-learn>=0.24.2->pyhealth) (1.7.3)\n",
            "Requirement already satisfied: typing-extensions in /usr/local/lib/python3.8/dist-packages (from torch>=1.8.0->pyhealth) (4.4.0)\n",
            "Requirement already satisfied: six>=1.5 in /usr/local/lib/python3.8/dist-packages (from python-dateutil>=2.7.3->pandas>=1.3.2->pyhealth) (1.15.0)\n"
          ]
        }
      ],
      "source": [
        "!pip install pyhealth"
      ]
    },
    {
      "cell_type": "markdown",
      "source": [
        "### **Instruction on [pyhealth.metrics](https://pyhealth.readthedocs.io/en/latest/api/metrics.html)**\n",
        "- **[README]**: This module contains the metrics for evaluating\n",
        "  - [multiclass classification](https://pyhealth.readthedocs.io/en/latest/api/metrics/pyhealth.metrics.multiclass.html)\n",
        "  - [multilabel classification](https://pyhealth.readthedocs.io/en/latest/api/metrics/pyhealth.metrics.multilabel.html)\n",
        "  - [binary classification](https://pyhealth.readthedocs.io/en/latest/api/metrics/pyhealth.metrics.binary.html)"
      ],
      "metadata": {
        "id": "_1S5rqae7FhB"
      }
    },
    {
      "cell_type": "markdown",
      "source": [
        "### **1. binary classification metrics**\n",
        "- User specifies the true label list `y_true` and the predicted logits `y_prob`.\n",
        "- User specifies `metrics`, which is a list of metrics that we want to calculate. Below, we use all the possible metrics for binary classification.\n",
        "- **Example**: we use `np.random` to generate the `y_true` and `y_prob` below."
      ],
      "metadata": {
        "id": "O11F6RuTrl-9"
      }
    },
    {
      "cell_type": "code",
      "source": [
        "import numpy as np\n",
        "\n",
        "from pyhealth.metrics.binary import binary_metrics_fn\n",
        "\n",
        "# randomly generated true labels and predicted probability\n",
        "y_true = np.random.randint(2, size=100000)\n",
        "y_prob = np.random.random(size=100000)\n",
        "\n",
        "all_metrics = [\n",
        "    \"pr_auc\",\n",
        "    \"roc_auc\",\n",
        "    \"accuracy\",\n",
        "    \"balanced_accuracy\",\n",
        "    \"f1\",\n",
        "    \"precision\",\n",
        "    \"recall\",\n",
        "    \"cohen_kappa\",\n",
        "    \"jaccard\",\n",
        "]\n",
        "\n",
        "binary_metrics_fn(y_true, y_prob, metrics=all_metrics)"
      ],
      "metadata": {
        "colab": {
          "base_uri": "https://localhost:8080/"
        },
        "id": "xiSQUgQyrpZG",
        "outputId": "e87d1f10-d68a-4490-ede8-4bdd27caf3df"
      },
      "execution_count": null,
      "outputs": [
        {
          "output_type": "execute_result",
          "data": {
            "text/plain": [
              "{'pr_auc': 0.49685758491817855,\n",
              " 'roc_auc': 0.4977532325321279,\n",
              " 'accuracy': 0.49824,\n",
              " 'balanced_accuracy': 0.49824770007219454,\n",
              " 'f1': 0.4991415452186065,\n",
              " 'precision': 0.4969983699757484,\n",
              " 'recall': 0.5013032842763765,\n",
              " 'cohen_kappa': -0.0035045235518360585,\n",
              " 'jaccard': 0.3325706988746708}"
            ]
          },
          "metadata": {},
          "execution_count": 3
        }
      ]
    },
    {
      "cell_type": "code",
      "source": [],
      "metadata": {
        "id": "3yg2WvljsZRL"
      },
      "execution_count": null,
      "outputs": []
    },
    {
      "cell_type": "markdown",
      "source": [
        "### **2. multiclass classification metrics**\n",
        "- User specifies the true label list `y_true` and the predicted logits `y_prob`.\n",
        "- User specifies `metrics`, which is a list of metrics that we want to calculate. Below, we use all the possible metrics for multiclass classification.\n",
        "- **Example**: we use `np.random` to generate the `y_true` and `y_prob` below."
      ],
      "metadata": {
        "id": "ZBRdU0w8sZhi"
      }
    },
    {
      "cell_type": "code",
      "source": [
        "from pyhealth.metrics.multiclass import multiclass_metrics_fn\n",
        "\n",
        "# randomly generated true labels and predicted probability\n",
        "y_true = np.random.randint(4, size=100000)\n",
        "y_prob = np.random.randn(100000, 4)\n",
        "y_prob = np.exp(y_prob) / np.sum(np.exp(y_prob), axis=-1, keepdims=True)\n",
        "\n",
        "all_metrics = [\n",
        "    \"roc_auc_macro_ovo\",\n",
        "    \"roc_auc_macro_ovr\",\n",
        "    \"roc_auc_weighted_ovo\",\n",
        "    \"roc_auc_weighted_ovr\",\n",
        "    \"accuracy\",\n",
        "    \"balanced_accuracy\",\n",
        "    \"f1_micro\",\n",
        "    \"f1_macro\",\n",
        "    \"f1_weighted\",\n",
        "    \"jaccard_micro\",\n",
        "    \"jaccard_macro\",\n",
        "    \"jaccard_weighted\",\n",
        "    \"cohen_kappa\",\n",
        "]\n",
        "\n",
        "multiclass_metrics_fn(y_true, y_prob, metrics=all_metrics)"
      ],
      "metadata": {
        "colab": {
          "base_uri": "https://localhost:8080/"
        },
        "id": "460OJBBUryDg",
        "outputId": "567f9acf-9e04-4a95-8eb0-19871d0eb932"
      },
      "execution_count": null,
      "outputs": [
        {
          "output_type": "execute_result",
          "data": {
            "text/plain": [
              "{'roc_auc_macro_ovo': 0.49909983586193224,\n",
              " 'roc_auc_macro_ovr': 0.49909924033232794,\n",
              " 'roc_auc_weighted_ovo': 0.4990969765890098,\n",
              " 'roc_auc_weighted_ovr': 0.4990915608239235,\n",
              " 'accuracy': 0.24804,\n",
              " 'balanced_accuracy': 0.24805420360037064,\n",
              " 'f1_micro': 0.24804,\n",
              " 'f1_macro': 0.2480398855528448,\n",
              " 'f1_weighted': 0.24803190267498276,\n",
              " 'jaccard_micro': 0.14157857485330716,\n",
              " 'jaccard_macro': 0.14157996679931306,\n",
              " 'jaccard_weighted': 0.1415747652957216,\n",
              " 'cohen_kappa': -0.0026085450086035245}"
            ]
          },
          "metadata": {},
          "execution_count": 4
        }
      ]
    },
    {
      "cell_type": "code",
      "source": [],
      "metadata": {
        "id": "KeCA44cKs9ah"
      },
      "execution_count": null,
      "outputs": []
    },
    {
      "cell_type": "markdown",
      "source": [
        "### **3. multilabel classification metrics**\n",
        "- User specifies the true label list `y_true` and the predicted logits `y_prob`.\n",
        "- User specifies `metrics`, which is a list of metrics that we want to calculate. Below, we use all the possible metrics for multilabel classification.\n",
        "- **Example**: we use `np.random` to generate the `y_true` and `y_prob` below."
      ],
      "metadata": {
        "id": "XgH5el1StSi4"
      }
    },
    {
      "cell_type": "code",
      "source": [
        "from pyhealth.metrics.multilabel import multilabel_metrics_fn\n",
        "\n",
        "# randomly generated true labels and predicted probability\n",
        "y_true = np.random.randint(2, size=(10000, 100))\n",
        "y_prob = np.random.random(size=(10000, 100))\n",
        "\n",
        "all_metrics = [\n",
        "    \"roc_auc_micro\",\n",
        "    \"roc_auc_macro\",\n",
        "    \"roc_auc_weighted\",\n",
        "    \"roc_auc_samples\",\n",
        "    \"pr_auc_micro\",\n",
        "    \"pr_auc_macro\",\n",
        "    \"pr_auc_weighted\",\n",
        "    \"pr_auc_samples\",\n",
        "    \"accuracy\",\n",
        "    \"f1_micro\",\n",
        "    \"f1_macro\",\n",
        "    \"f1_weighted\",\n",
        "    \"f1_samples\",\n",
        "    \"precision_micro\",\n",
        "    \"precision_macro\",\n",
        "    \"precision_weighted\",\n",
        "    \"precision_samples\",\n",
        "    \"recall_micro\",\n",
        "    \"recall_macro\",\n",
        "    \"recall_weighted\",\n",
        "    \"recall_samples\",\n",
        "    \"jaccard_micro\",\n",
        "    \"jaccard_macro\",\n",
        "    \"jaccard_weighted\",\n",
        "    \"jaccard_samples\",\n",
        "    \"hamming_loss\",\n",
        "]\n",
        "\n",
        "multilabel_metrics_fn(y_true, y_prob, metrics=all_metrics)"
      ],
      "metadata": {
        "colab": {
          "base_uri": "https://localhost:8080/"
        },
        "id": "Sw9EfOOJtaGN",
        "outputId": "684ff39a-2f5c-4675-fe80-274e84d8aa16"
      },
      "execution_count": null,
      "outputs": [
        {
          "output_type": "execute_result",
          "data": {
            "text/plain": [
              "{'roc_auc_micro': 0.500419357027864,\n",
              " 'roc_auc_macro': 0.5004095816773159,\n",
              " 'roc_auc_weighted': 0.5004094030836111,\n",
              " 'roc_auc_samples': 0.5004834406276736,\n",
              " 'pr_auc_micro': 0.500914284467838,\n",
              " 'pr_auc_macro': 0.5013350312749212,\n",
              " 'pr_auc_weighted': 0.5013752132346262,\n",
              " 'pr_auc_samples': 0.5219467025812635,\n",
              " 'accuracy': 0.0,\n",
              " 'f1_micro': 0.500349424174954,\n",
              " 'f1_macro': 0.500327305383711,\n",
              " 'f1_weighted': 0.5003496745899392,\n",
              " 'f1_samples': 0.4978024864882309,\n",
              " 'precision_micro': 0.5006993370804728,\n",
              " 'precision_macro': 0.500696992387741,\n",
              " 'precision_weighted': 0.5007392175970358,\n",
              " 'precision_samples': 0.5006834304175435,\n",
              " 'recall_micro': 0.5,\n",
              " 'recall_macro': 0.4999974036846464,\n",
              " 'recall_weighted': 0.5,\n",
              " 'recall_samples': 0.4999439209488278,\n",
              " 'jaccard_micro': 0.3336440049707462,\n",
              " 'jaccard_macro': 0.3336449121652103,\n",
              " 'jaccard_weighted': 0.33366481187295227,\n",
              " 'jaccard_samples': 0.33366199138464897,\n",
              " 'hamming_loss': 0.499759}"
            ]
          },
          "metadata": {},
          "execution_count": 5
        }
      ]
    },
    {
      "cell_type": "code",
      "source": [],
      "metadata": {
        "id": "HsRG89d0tfxt"
      },
      "execution_count": null,
      "outputs": []
    },
    {
      "cell_type": "markdown",
      "source": [
        "If you find it useful, please give us a star ⭐ (fork, and watch) at https://github.com/sunlabuiuc/PyHealth. \n",
        "\n",
        "Thanks very much for your support!"
      ],
      "metadata": {
        "id": "-xACJlCnbewD"
      }
    }
  ],
  "metadata": {
    "colab": {
      "provenance": [],
      "include_colab_link": true
    },
    "kernelspec": {
      "display_name": "Python 3",
      "name": "python3"
    },
    "gpuClass": "standard"
  },
  "nbformat": 4,
  "nbformat_minor": 0
}