{
  "cells": [
    {
      "cell_type": "markdown",
      "metadata": {
        "id": "view-in-github",
        "colab_type": "text"
      },
      "source": [
        "<a href=\"https://colab.research.google.com/github/mingmcs/pyhealth/blob/week1/Tutorial_7_pyhealth_medcode.ipynb\" target=\"_parent\"><img src=\"https://colab.research.google.com/assets/colab-badge.svg\" alt=\"Open In Colab\"/></a>"
      ]
    },
    {
      "cell_type": "markdown",
      "source": [
        "### **Preparation**\n",
        "- install pyhealth alpha version"
      ],
      "metadata": {
        "id": "PHPVEkPFKYkw"
      }
    },
    {
      "cell_type": "code",
      "execution_count": null,
      "metadata": {
        "id": "Dbz1YJ2nqOSN"
      },
      "outputs": [],
      "source": [
        "!pip install pyhealth"
      ]
    },
    {
      "cell_type": "markdown",
      "source": [
        "### **Instruction on [pyhealth.medcode](https://pyhealth.readthedocs.io/en/latest/api/medcode.html)**\n",
        "- **[README]**: medcode provides two core functionalities: \n",
        "    - (1) looking up information for a given medical code (e.g., name, category, sub-concept); \n",
        "    - (2) mapping codes across coding systems (e.g., ICD9CM to CCSCM). **This module can be easily applied to your research.**"
      ],
      "metadata": {
        "id": "_1S5rqae7FhB"
      }
    },
    {
      "cell_type": "markdown",
      "source": [
        "### 1. Code Lookup\n",
        "\n",
        "`class pyhealth.medcode.InnerMap`\n",
        "\n",
        "- **[Functionality]**:\n",
        "    - lookup(code): looks up code in a coding system\n",
        "    - contains(code): checks whether a code belongs to a specific coding system\n",
        "    - get_ancestors(code): returns the ancestors for a given code\n",
        "\n",
        "Currently, we support the following coding systems:\n",
        "\n",
        "- Diagnosis codes:\n",
        "    - ICD9CM\n",
        "    - ICD10CM\n",
        "    - CCSCM\n",
        "- Procedure codes:\n",
        "    - ICD9PROC\n",
        "    - ICD10PROC\n",
        "    - CCSPROC\n",
        "- Medication codes:\n",
        "    - NDC\n",
        "    - RxNorm\n",
        "    - ATC"
      ],
      "metadata": {
        "id": "6HPf_5D0nQK6"
      }
    },
    {
      "cell_type": "markdown",
      "source": [
        "### Example 1: Look up ICD9CM code\n",
        "\n",
        "Let's first try to look up the ICD9 CM code 428.0, which stands for \"Congestive heart failure, unspecified\"."
      ],
      "metadata": {
        "id": "fUL4zbTRnw3P"
      }
    },
    {
      "cell_type": "code",
      "source": [
        "from pyhealth.medcode import InnerMap\n",
        "\n",
        "# initialize an InnerMap\n",
        "icd9cm = InnerMap.load(\"ICD9CM\")\n",
        "\n",
        "# let's first check if the code is in ICD9CM\n",
        "\"428.0\" in icd9cm"
      ],
      "metadata": {
        "colab": {
          "base_uri": "https://localhost:8080/"
        },
        "id": "XfVUbTI7nPsH",
        "outputId": "0b6b8655-f7ac-4209-a838-328e23eacc9d"
      },
      "execution_count": null,
      "outputs": [
        {
          "output_type": "execute_result",
          "data": {
            "text/plain": [
              "True"
            ]
          },
          "metadata": {},
          "execution_count": 29
        }
      ]
    },
    {
      "cell_type": "code",
      "source": [
        "# next let's look up this code\n",
        "icd9cm.lookup(\"428.0\")"
      ],
      "metadata": {
        "colab": {
          "base_uri": "https://localhost:8080/",
          "height": 35
        },
        "id": "ca79ODRkopvO",
        "outputId": "da4ea055-0f83-4fc6-b6d0-e9faf7a60943"
      },
      "execution_count": null,
      "outputs": [
        {
          "output_type": "execute_result",
          "data": {
            "text/plain": [
              "'Congestive heart failure, unspecified'"
            ],
            "application/vnd.google.colaboratory.intrinsic+json": {
              "type": "string"
            }
          },
          "metadata": {},
          "execution_count": 30
        }
      ]
    },
    {
      "cell_type": "code",
      "source": [
        "# we can also get the ancestors of this code\n",
        "icd9cm.get_ancestors(\"428.0\")"
      ],
      "metadata": {
        "colab": {
          "base_uri": "https://localhost:8080/"
        },
        "id": "NLvvKbloo3cv",
        "outputId": "5c0ae803-a926-450c-c7f0-b7de3089d808"
      },
      "execution_count": null,
      "outputs": [
        {
          "output_type": "execute_result",
          "data": {
            "text/plain": [
              "['428', '420-429.99', '390-459.99', '001-999.99']"
            ]
          },
          "metadata": {},
          "execution_count": 31
        }
      ]
    },
    {
      "cell_type": "code",
      "source": [
        "icd9cm.get_descendants(\"428\")"
      ],
      "metadata": {
        "colab": {
          "base_uri": "https://localhost:8080/"
        },
        "id": "24b45pbzVzYP",
        "outputId": "caf43017-330e-4703-c7c1-c06ea0bd84b6"
      },
      "execution_count": null,
      "outputs": [
        {
          "output_type": "execute_result",
          "data": {
            "text/plain": [
              "['428.0',\n",
              " '428.1',\n",
              " '428.2',\n",
              " '428.3',\n",
              " '428.4',\n",
              " '428.9',\n",
              " '428.20',\n",
              " '428.21',\n",
              " '428.22',\n",
              " '428.23',\n",
              " '428.30',\n",
              " '428.31',\n",
              " '428.32',\n",
              " '428.33',\n",
              " '428.40',\n",
              " '428.41',\n",
              " '428.42',\n",
              " '428.43']"
            ]
          },
          "metadata": {},
          "execution_count": 32
        }
      ]
    },
    {
      "cell_type": "markdown",
      "source": [
        "Note that if the code is not in standard format (e.g., \"4280\" instead of \"428.0\"), medcode will automatically normalize it."
      ],
      "metadata": {
        "id": "mB_7HSJOu7Oc"
      }
    },
    {
      "cell_type": "code",
      "source": [
        "# non-standard format\n",
        "icd9cm.lookup(\"4280\")"
      ],
      "metadata": {
        "colab": {
          "base_uri": "https://localhost:8080/",
          "height": 35
        },
        "id": "7AkmUcM_u6a-",
        "outputId": "5a6f5a0c-240c-46e3-ce9d-20e97ddc1cc9"
      },
      "execution_count": null,
      "outputs": [
        {
          "output_type": "execute_result",
          "data": {
            "text/plain": [
              "'Congestive heart failure, unspecified'"
            ],
            "application/vnd.google.colaboratory.intrinsic+json": {
              "type": "string"
            }
          },
          "metadata": {},
          "execution_count": 33
        }
      ]
    },
    {
      "cell_type": "markdown",
      "source": [
        "**TODO**: look up the following ICD9CM codes: 480.1, 280, 394"
      ],
      "metadata": {
        "id": "MhTm-_74pZyd"
      }
    },
    {
      "cell_type": "code",
      "source": [
        "icd9cm.lookup(\"480.1\")"
      ],
      "metadata": {
        "id": "n2eLWCtRvAgq"
      },
      "execution_count": null,
      "outputs": []
    },
    {
      "cell_type": "code",
      "source": [
        "icd9cm.lookup(\"280\")"
      ],
      "metadata": {
        "id": "JRU5mmWHvDk2"
      },
      "execution_count": null,
      "outputs": []
    },
    {
      "cell_type": "code",
      "source": [
        "icd9cm.lookup(\"394\")"
      ],
      "metadata": {
        "id": "RlvZHwk1vGAP"
      },
      "execution_count": null,
      "outputs": []
    },
    {
      "cell_type": "markdown",
      "source": [
        "**TODO:** look up the following CCSPROC codes: 2, 5, 10"
      ],
      "metadata": {
        "id": "eUTcMK_3p69D"
      }
    },
    {
      "cell_type": "code",
      "source": [
        "ccsproc = InnerMap.load(\"CCSPROC\")"
      ],
      "metadata": {
        "id": "MFDKpEVFvH6P"
      },
      "execution_count": null,
      "outputs": []
    },
    {
      "cell_type": "code",
      "source": [
        "ccsproc.lookup(\"2\")"
      ],
      "metadata": {
        "colab": {
          "base_uri": "https://localhost:8080/",
          "height": 35
        },
        "id": "y_a4ZZZCvMsS",
        "outputId": "00c295e4-09a0-40c4-ad17-63697df1470a"
      },
      "execution_count": null,
      "outputs": [
        {
          "output_type": "execute_result",
          "data": {
            "text/plain": [
              "'Insertion; replacement; or removal of extracranial ventricular shunt\"'"
            ],
            "application/vnd.google.colaboratory.intrinsic+json": {
              "type": "string"
            }
          },
          "metadata": {},
          "execution_count": 35
        }
      ]
    },
    {
      "cell_type": "code",
      "source": [
        "ccsproc.lookup(\"5\")"
      ],
      "metadata": {
        "id": "3oJ54dOzvPoX"
      },
      "execution_count": null,
      "outputs": []
    },
    {
      "cell_type": "code",
      "source": [
        "ccsproc.lookup(\"10\")"
      ],
      "metadata": {
        "id": "ZN0EGln8vRRI"
      },
      "execution_count": null,
      "outputs": []
    },
    {
      "cell_type": "markdown",
      "source": [
        "### Example 2: Look up ATC code\n",
        "\n",
        "For the medication code ATC, medcode provides additional information from DrugBank,."
      ],
      "metadata": {
        "id": "NTwzz6_-qU0R"
      }
    },
    {
      "cell_type": "code",
      "source": [
        "atc = InnerMap.load(\"ATC\")\n",
        "\n",
        "# let's search for M01AE51\n",
        "atc.lookup(\"M01AE51\")"
      ],
      "metadata": {
        "colab": {
          "base_uri": "https://localhost:8080/",
          "height": 35
        },
        "id": "ejIczHHeqjyg",
        "outputId": "94389eb2-500d-470c-c5f8-6152ef4e12b8"
      },
      "execution_count": null,
      "outputs": [
        {
          "output_type": "execute_result",
          "data": {
            "text/plain": [
              "'ibuprofen, combinations'"
            ],
            "application/vnd.google.colaboratory.intrinsic+json": {
              "type": "string"
            }
          },
          "metadata": {},
          "execution_count": 36
        }
      ]
    },
    {
      "cell_type": "code",
      "source": [
        "#  DrugBank ID\n",
        "print(atc.lookup(\"M01AE51\", \"drugbank_id\"))"
      ],
      "metadata": {
        "colab": {
          "base_uri": "https://localhost:8080/"
        },
        "id": "QzmQFrdSrUsB",
        "outputId": "9c6f8daf-0c22-49f3-e02b-9658b6de73ba"
      },
      "execution_count": null,
      "outputs": [
        {
          "output_type": "stream",
          "name": "stdout",
          "text": [
            "DB01050\n"
          ]
        }
      ]
    },
    {
      "cell_type": "code",
      "source": [
        "#  Drug description from DrugBank\n",
        "print(atc.lookup(\"M01AE51\", \"description\"))"
      ],
      "metadata": {
        "colab": {
          "base_uri": "https://localhost:8080/"
        },
        "id": "2456YJMxrD-X",
        "outputId": "7b5cbbd8-8b7e-482c-9c54-8c0ab6ed53d1"
      },
      "execution_count": null,
      "outputs": [
        {
          "output_type": "stream",
          "name": "stdout",
          "text": [
            "Ibuprofen is a non-steroidal anti-inflammatory drug (NSAID) derived from propionic acid and it is considered the first of the propionics.[A39074] The formula of ibuprofen is 2-(4-isobutylphenyl) propionic acid and its initial development was in 1960 while researching for a safer alternative for aspirin.[A39075] Ibuprofen was finally patented in 1961 and this drug was first launched against rheumatoid arthritis in the UK in 1969 and USA in 1974. It was the first available over-the-counter NSAID.[A39076]\n",
            "\n",
            "On the available products, ibuprofen is administered as a racemic mixture. Once administered, the R-enantiomer undergoes extensive interconversion to the S-enantiomer _in vivo_ by the activity of the alpha-methylacyl-CoA racemase. In particular, it is generally proposed that the S-enantiomer is capable of eliciting stronger pharmacological activity than the R-enantiomer.[A39194]\n"
          ]
        }
      ]
    },
    {
      "cell_type": "code",
      "source": [
        "#  Drug indication from DrugBank\n",
        "print(atc.lookup(\"M01AE51\", \"indication\"))"
      ],
      "metadata": {
        "colab": {
          "base_uri": "https://localhost:8080/"
        },
        "id": "QVuRAKaMrN-5",
        "outputId": "e9073113-ca98-46ed-d222-95b04798c847"
      },
      "execution_count": null,
      "outputs": [
        {
          "output_type": "stream",
          "name": "stdout",
          "text": [
            "Ibuprofen is the most commonly used and prescribed NSAID. It is very common over the counter medication widely used as an analgesic, anti-inflammatory and antipyretic.[A39096]\n",
            "\n",
            "The use of ibuprofen and its enantiomer [DB09213] in a racemic mix is common for the management of mild to moderate pain related to dysmenorrhea, headache, migraine, postoperative dental pain, spondylitis, osteoarthritis, rheumatoid arthritis, and soft tissue disorder.[A39097]\n",
            "\n",
            "Due to its activity against prostaglandin and thromboxane synthesis, ibuprofen has been attributed to alteration of platelet function and prolongation of gestation and labor.[A39092]\n",
            "\n",
            "As ibuprofen is a widely used medication, the main therapeutic indications are:\n",
            "\n",
            "* Patent Ductus Arteriosus - it is a neonatal condition wherein the ductus arteriosus (blood vessel that connects the main pulmonary artery to the proximal descending aorta) fails to close after birth causing severe risk of heart failure. The prostaglandin inhibition of ibuprofen has been studied for the treatment of this condition as it is known that prostaglandin E2 is responsible for keeping the ductus arteriosus open.[A39100]\n",
            "\n",
            "* Rheumatoid- and osteo-arthritis - ibuprofen is very commonly used in the symptomatic treatment of inflammatory, musculoskeletal and rheumatic disorders.[A39176]\n",
            "\n",
            "* Cystic fibrosis - the use of high dosages of ibuprofen has been proven to decrease inflammation and decreasing polymorphonuclear cell influx in the lungs.[A39177]\n",
            "\n",
            "* Orthostatic hypotension - ibuprofen can induce sodium retention and antagonize the effect of diuretics which has been reported to be beneficial for patients with severe orthostatic hypotension.[A1651]\n",
            "\n",
            "* Dental pain - ibuprofen is used to manage acute and chronic orofacial pain.[A10901]\n",
            "\n",
            "* Minor pain - ibuprofen is widely used to reduce minor aches and pains as well as to reduce fever and manage dysmenorrhea. It is very commonly used for the relief of acute indications such as fever and tension headaches.[A39092]\n",
            "\n",
            "* Investigational uses - efforts have been put into developing ibuprofen for the prophylaxis of Alzheimer's disease, Parkinson disease, and breast cancer.[A39092]\n"
          ]
        }
      ]
    },
    {
      "cell_type": "code",
      "source": [
        "#  Drug SMILES string from DrugBank\n",
        "print(atc.lookup(\"M01AE51\", \"smiles\"))"
      ],
      "metadata": {
        "colab": {
          "base_uri": "https://localhost:8080/"
        },
        "id": "a2_XGukyrQLm",
        "outputId": "544a1b32-595f-4dd7-ff14-2801ca6bdd7b"
      },
      "execution_count": null,
      "outputs": [
        {
          "output_type": "stream",
          "name": "stdout",
          "text": [
            "CC(C)CC1=CC=C(C=C1)C(C)C(O)=O\n"
          ]
        }
      ]
    },
    {
      "cell_type": "markdown",
      "source": [
        "**TODO**: look up other ATC codes from https://go.drugbank.com/atc\n",
        "\n",
        "E.g., B01AC06 for Aspirin."
      ],
      "metadata": {
        "id": "9icZIs36rbYm"
      }
    },
    {
      "cell_type": "code",
      "source": [
        "print(atc.lookup(\"B01AC06\", \"indication\"))"
      ],
      "metadata": {
        "colab": {
          "base_uri": "https://localhost:8080/"
        },
        "id": "-YT-oYRgvcZm",
        "outputId": "a3e86fcd-37a8-453e-9fb1-b9d003e6d891"
      },
      "execution_count": null,
      "outputs": [
        {
          "output_type": "stream",
          "name": "stdout",
          "text": [
            "**Pain, fever, and inflammation**\n",
            "\n",
            "Acetylsalicylic acid (ASA), in the regular tablet form (immediate-release), is indicated to relieve pain, fever, and inflammation associated with many conditions, including the flu, the common cold, neck and back pain, dysmenorrhea, headache, tooth pain, sprains, fractures, myositis, neuralgia, synovitis, arthritis, bursitis, burns, and various injuries. It is also used for symptomatic pain relief after surgical and dental procedures [FDA label]. \n",
            "\n",
            "The _extra strength_ formulation of acetylsalicylic acid is also indicated for the management migraine pain with photophobia (sensitivity to light) and phonophobia (sensitivity to sound)[FDA label].\n",
            "\n",
            "**Other indications**\n",
            "\n",
            "ASA is also indicated for various other purposes, due to its ability to inhibit platelet aggregation. These include: \n",
            "\n",
            "Reducing the risk of cardiovascular death in suspected cases of myocardial infarction (MI) [FDA label]. \n",
            "\n",
            "Reducing the risk of a first non-fatal myocardial infarction in patients, and for reducing the risk of morbidity and mortality in cases of unstable angina and in those who have had a prior myocardial infarction [FDA label].\n",
            "\n",
            "For reducing the risk of transient ischemic attacks (TIA) and to prevent atherothrombotic cerebral infarction (in conjunction with other treatments) [FDA label].\n",
            "\n",
            "For the prevention of thromboembolism after hip replacement surgery [FDA label]. \n",
            "\n",
            "For decreasing platelet to platelet adhesion following carotid endarterectomy, aiding in the prevention of transient ischemic attacks (TIA) [FDA label].\n",
            "\n",
            "Used for patients undergoing hemodialysis with a silicone rubber arteriovenous cannula inserted to prevent thrombosis at the insertion site [FDA Label]. \n",
            "\n",
            "**Important note regarding use of the extended-release formulation [F4405]**\n",
            "\n",
            "In the setting of acute myocardial infarction, or before percutaneous interventions, the extended-release form of acetylsalicylic acid should not be used. Use immediate-release formulations in scenarios requiring rapid onset of action [Label, F4405]. The extended-release form is taken to decrease the incidence of mortality and myocardial infarction (MI) for individuals diagnosed with chronic coronary artery disease (CAD), including patients with previous myocardial infarction (MI) or unstable angina or with chronic stable angina. Additionally, the extended-release form is used to decrease the risk of death and recurrent episodes of stroke in patients with a history of stroke or TIA [F4405].\n",
            "\n",
            "\n",
            " \n"
          ]
        }
      ]
    },
    {
      "cell_type": "code",
      "source": [
        "# print(atc.lookup(\"A12CE02\", \"drugbank_id\"))\n",
        "atc.convert(\"A12CE02\", level=3)"
      ],
      "metadata": {
        "colab": {
          "base_uri": "https://localhost:8080/",
          "height": 35
        },
        "id": "elgRQlnmyiq9",
        "outputId": "a6832a8d-298a-4b5c-8966-cb9ad394dd5a"
      },
      "execution_count": null,
      "outputs": [
        {
          "output_type": "execute_result",
          "data": {
            "text/plain": [
              "'A12C'"
            ],
            "application/vnd.google.colaboratory.intrinsic+json": {
              "type": "string"
            }
          },
          "metadata": {},
          "execution_count": 43
        }
      ]
    },
    {
      "cell_type": "markdown",
      "source": [
        "### 2. Code Mapping\n",
        "\n",
        "`class pyhealth.medcode.CodeMap`\n",
        "- **[Args]**:\n",
        "    - source: source code vocabulary to map from\n",
        "    - target: target code vocabulary to map to\n",
        "\n",
        "- **[Functionality]**:\n",
        "- map(source_code): maps source_code to the target vocabulary\n",
        "\n",
        "Currently, we support the following mapping:\n",
        "\n",
        "- With in diagnosis codes:\n",
        "    - ICD9CM <-> CCSCM\n",
        "    - ICD10CM <-> CCSCM\n",
        "- With in procedure codes:\n",
        "    - ICD9PROC <-> CCSPROC\n",
        "    - ICD10PROC <-> CCSPROC\n",
        "- With in medication codes:\n",
        "    - NDC <-> RxNorm\n",
        "    - NDC <-> ATC\n",
        "    - RxNorm <-> ATC\n",
        "- Between diagnosis and medication codes:\n",
        "    - ATC <-> ICD9CM"
      ],
      "metadata": {
        "id": "kAMEBO-Mr2sB"
      }
    },
    {
      "cell_type": "markdown",
      "source": [
        "### Example 3: Map ICD9CM code to CCSCM code\n",
        "\n",
        "Let's try to map the ICD9 CM code 428.0, which stands for \"Congestive heart failure, unspecified\", to CCS CM code."
      ],
      "metadata": {
        "id": "uIhMHC67sthU"
      }
    },
    {
      "cell_type": "code",
      "source": [
        "from pyhealth.medcode import CrossMap\n",
        "\n",
        "mapping = CrossMap.load(source_vocabulary=\"ICD9CM\", target_vocabulary=\"CCSCM\")\n",
        "mapping.map(\"428.0\")"
      ],
      "metadata": {
        "id": "hgGo1hUYs457",
        "colab": {
          "base_uri": "https://localhost:8080/"
        },
        "outputId": "1646e49e-028f-4c23-e5bf-278067469404"
      },
      "execution_count": null,
      "outputs": [
        {
          "output_type": "execute_result",
          "data": {
            "text/plain": [
              "['108']"
            ]
          },
          "metadata": {},
          "execution_count": 44
        }
      ]
    },
    {
      "cell_type": "markdown",
      "source": [
        "Note that the returned variable is a list of codes, due to the possible one-to-many mapping."
      ],
      "metadata": {
        "id": "1EFw192-vYNu"
      }
    },
    {
      "cell_type": "code",
      "source": [
        "# let's check if the mapping is correct\n",
        "ccscm = InnerMap.load(\"CCSCM\")\n",
        "print(ccscm.lookup(\"108\"))"
      ],
      "metadata": {
        "colab": {
          "base_uri": "https://localhost:8080/"
        },
        "id": "Mg__ZGSks5DX",
        "outputId": "4b393341-519b-444f-94fd-c7e18284d3a0"
      },
      "execution_count": null,
      "outputs": [
        {
          "output_type": "stream",
          "name": "stdout",
          "text": [
            "Congestive heart failure; nonhypertensive\n"
          ]
        }
      ]
    },
    {
      "cell_type": "markdown",
      "source": [
        "chf;nonhp: Congestive heart failure, nonhypertensive"
      ],
      "metadata": {
        "id": "oAWfsmTNv46n"
      }
    },
    {
      "cell_type": "markdown",
      "source": [],
      "metadata": {
        "id": "u2zo-JtqwjED"
      }
    },
    {
      "cell_type": "markdown",
      "source": [
        "### Example 4: Map NDC code to ATC code\n",
        "\n",
        "Let's try to map the NDC code 5058060001, which is acetaminophen 325 MG Oral Tablet [Tylenol].\n",
        "\n",
        "See https://fda.report/NDC/50580-496."
      ],
      "metadata": {
        "id": "2jmqQX1Dstp7"
      }
    },
    {
      "cell_type": "code",
      "source": [
        "from pyhealth.medcode import CrossMap\n",
        "\n",
        "# (it may take up to 5 minutes)\n",
        "mapping = CrossMap.load(\"NDC\", \"RxNorm\")\n",
        "mapping.map(\"50580049698\")"
      ],
      "metadata": {
        "colab": {
          "base_uri": "https://localhost:8080/"
        },
        "id": "Q5JsV6PAr5Sj",
        "outputId": "dca1d642-b030-445a-d9ae-6395c64151d4"
      },
      "execution_count": null,
      "outputs": [
        {
          "output_type": "execute_result",
          "data": {
            "text/plain": [
              "['209387']"
            ]
          },
          "metadata": {},
          "execution_count": 46
        }
      ]
    },
    {
      "cell_type": "code",
      "source": [
        "# (it may take up to 5 minutes)\n",
        "mapping = CrossMap.load(\"RxNorm\", \"NDC\")\n",
        "mapping.map(\"209387\")"
      ],
      "metadata": {
        "id": "wGmwMNfCcoW3"
      },
      "execution_count": null,
      "outputs": []
    },
    {
      "cell_type": "code",
      "source": [
        "# let's check if the mapping is correct\n",
        "ccscm = InnerMap.load(\"RxNorm\")\n",
        "ccscm.lookup(\"209387\")"
      ],
      "metadata": {
        "id": "gKrZ1o5owVJ4"
      },
      "execution_count": null,
      "outputs": []
    },
    {
      "cell_type": "markdown",
      "source": [
        "**TODO:** Map NDC code 50090539100 to ATC.\n",
        "\n",
        "See https://ndclist.com/ndc/50090-5391/package/50090-5391-0."
      ],
      "metadata": {
        "id": "yTsq7iDHyQD1"
      }
    },
    {
      "cell_type": "code",
      "source": [
        "mapping = CrossMap.load(\"NDC\", \"ATC\")\n",
        "mapping.map(\"50090539100\")"
      ],
      "metadata": {
        "id": "l3pFuvxRwV0Y"
      },
      "execution_count": null,
      "outputs": []
    },
    {
      "cell_type": "code",
      "source": [],
      "metadata": {
        "id": "eujTF7elwbjD"
      },
      "execution_count": null,
      "outputs": []
    },
    {
      "cell_type": "markdown",
      "source": [
        "If you find it useful, please give us a star ⭐ (fork, and watch) at https://github.com/sunlabuiuc/PyHealth. \n",
        "\n",
        "Thanks very much for your support!"
      ],
      "metadata": {
        "id": "en29EQlobki8"
      }
    }
  ],
  "metadata": {
    "colab": {
      "provenance": [],
      "include_colab_link": true
    },
    "kernelspec": {
      "display_name": "Python 3",
      "name": "python3"
    },
    "gpuClass": "standard"
  },
  "nbformat": 4,
  "nbformat_minor": 0
}